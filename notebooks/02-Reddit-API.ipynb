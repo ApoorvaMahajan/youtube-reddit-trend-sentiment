{
 "cells": [
  {
   "cell_type": "markdown",
   "metadata": {},
   "source": [
    "## Getting API Keys"
   ]
  },
  {
   "cell_type": "code",
   "execution_count": 1,
   "metadata": {},
   "outputs": [],
   "source": [
    "from dotenv import load_dotenv\n",
    "import os\n",
    "\n",
    "load_dotenv()\n",
    "\n",
    "REDDIT_ID = os.getenv(\"REDDIT_CLIENT_ID\")\n",
    "REDDIT_SECRET = os.getenv(\"REDDIT_CLIENT_SECRET\")"
   ]
  },
  {
   "cell_type": "markdown",
   "metadata": {
    "id": "rIHLqgSpVmO7"
   },
   "source": [
    "## 📦 Install required libraries"
   ]
  },
  {
   "cell_type": "code",
   "execution_count": 2,
   "metadata": {
    "colab": {
     "base_uri": "https://localhost:8080/"
    },
    "executionInfo": {
     "elapsed": 8693,
     "status": "ok",
     "timestamp": 1745091226741,
     "user": {
      "displayName": "Revanth Shahukaru",
      "userId": "15386280149867855082"
     },
     "user_tz": 240
    },
    "id": "Bz9Ni8fnK5kt",
    "outputId": "e1686db4-f435-4eb0-f311-7c0c7238d12d"
   },
   "outputs": [
    {
     "name": "stderr",
     "output_type": "stream",
     "text": [
      "[nltk_data] Downloading package punkt to /home/codespace/nltk_data...\n",
      "[nltk_data]   Package punkt is already up-to-date!\n"
     ]
    },
    {
     "data": {
      "text/plain": [
       "True"
      ]
     },
     "execution_count": 2,
     "metadata": {},
     "output_type": "execute_result"
    }
   ],
   "source": [
    "# 📚 Imports\n",
    "import praw\n",
    "import pandas as pd\n",
    "import re\n",
    "import random\n",
    "import time\n",
    "from datetime import datetime, timedelta\n",
    "from vaderSentiment.vaderSentiment import SentimentIntensityAnalyzer\n",
    "from nltk.tokenize import word_tokenize\n",
    "import nltk\n",
    "nltk.download(\"punkt\")"
   ]
  },
  {
   "cell_type": "markdown",
   "metadata": {},
   "source": [
    "## 🔑 Reddit API Setup (Read-only mode)"
   ]
  },
  {
   "cell_type": "code",
   "execution_count": 3,
   "metadata": {
    "executionInfo": {
     "elapsed": 1,
     "status": "ok",
     "timestamp": 1745091226754,
     "user": {
      "displayName": "Revanth Shahukaru",
      "userId": "15386280149867855082"
     },
     "user_tz": 240
    },
    "id": "OJqMmT9uGCIf"
   },
   "outputs": [],
   "source": [
    "reddit = praw.Reddit(\n",
    "    client_id=REDDIT_ID,\n",
    "    client_secret=REDDIT_SECRET,\n",
    "    user_agent=\"youtube_to_reddit_sentiment\"\n",
    ")"
   ]
  },
  {
   "cell_type": "markdown",
   "metadata": {
    "id": "YzvVm3aoV9Yh"
   },
   "source": [
    "## 📥 Load video titles\n"
   ]
  },
  {
   "cell_type": "code",
   "execution_count": 4,
   "metadata": {
    "executionInfo": {
     "elapsed": 760,
     "status": "ok",
     "timestamp": 1745091227516,
     "user": {
      "displayName": "Revanth Shahukaru",
      "userId": "15386280149867855082"
     },
     "user_tz": 240
    },
    "id": "icbjjVAWV8h8"
   },
   "outputs": [],
   "source": [
    "youtube_df = pd.read_csv(\"../data/youtube_data.csv\")\n",
    "\n",
    "# 🕰️ Optional: Calculate Reddit 'time_filter' based on YouTube’s oldest timestamp\n",
    "# We'll mock it as 'month' or 'week' here (PRAW only allows fixed ranges)\n",
    "time_filter = \"month\""
   ]
  },
  {
   "cell_type": "markdown",
   "metadata": {
    "id": "EViKtJY9WMU3"
   },
   "source": [
    "## 🧹 Clean text"
   ]
  },
  {
   "cell_type": "code",
   "execution_count": 5,
   "metadata": {
    "executionInfo": {
     "elapsed": 3,
     "status": "ok",
     "timestamp": 1745091227534,
     "user": {
      "displayName": "Revanth Shahukaru",
      "userId": "15386280149867855082"
     },
     "user_tz": 240
    },
    "id": "EJChjje_V8fj"
   },
   "outputs": [],
   "source": [
    "def clean_text(text):\n",
    "    text = re.sub(r\"http\\S+\", \"\", text)\n",
    "    text = re.sub(r\"[^a-zA-Z0-9\\s]\", \"\", text)\n",
    "    return text.lower()"
   ]
  },
  {
   "cell_type": "markdown",
   "metadata": {
    "id": "Gz-BSzjIWU14"
   },
   "source": [
    "## 📊 Sentiment analysis\n"
   ]
  },
  {
   "cell_type": "code",
   "execution_count": 6,
   "metadata": {
    "executionInfo": {
     "elapsed": 6,
     "status": "ok",
     "timestamp": 1745091227539,
     "user": {
      "displayName": "Revanth Shahukaru",
      "userId": "15386280149867855082"
     },
     "user_tz": 240
    },
    "id": "Ub7VwwUIV8dK"
   },
   "outputs": [],
   "source": [
    "analyzer = SentimentIntensityAnalyzer()\n",
    "def analyze_sentiment(text):\n",
    "    return analyzer.polarity_scores(text)[\"compound\"]"
   ]
  },
  {
   "cell_type": "markdown",
   "metadata": {
    "id": "2WTo8r75WcaP"
   },
   "source": []
  },
  {
   "cell_type": "code",
   "execution_count": 7,
   "metadata": {
    "executionInfo": {
     "elapsed": 12,
     "status": "ok",
     "timestamp": 1745091227555,
     "user": {
      "displayName": "Revanth Shahukaru",
      "userId": "15386280149867855082"
     },
     "user_tz": 240
    },
    "id": "VkNN3pYfV8ay"
   },
   "outputs": [],
   "source": [
    "# 😃 Convert score to emoji\n",
    "def sentiment_emoji(score):\n",
    "    if score >= 0.5:\n",
    "        return \"😃\"\n",
    "    elif score <= -0.5:\n",
    "        return \"😠\"\n",
    "    else:\n",
    "        return \"😐\""
   ]
  },
  {
   "cell_type": "markdown",
   "metadata": {
    "id": "pbulK4ijWdAc"
   },
   "source": [
    "## 🧠 Reddit Post + Comment collector\n"
   ]
  },
  {
   "cell_type": "code",
   "execution_count": 8,
   "metadata": {
    "colab": {
     "base_uri": "https://localhost:8080/"
    },
    "collapsed": true,
    "executionInfo": {
     "elapsed": 45415,
     "status": "ok",
     "timestamp": 1745091272972,
     "user": {
      "displayName": "Revanth Shahukaru",
      "userId": "15386280149867855082"
     },
     "user_tz": 240
    },
    "id": "44dOAmPzV8YY",
    "outputId": "84ebd48d-25ad-4e58-d38a-942984a76978"
   },
   "outputs": [
    {
     "name": "stdout",
     "output_type": "stream",
     "text": [
      "CPU times: user 311 ms, sys: 16.2 ms, total: 327 ms\n",
      "Wall time: 14.9 s\n"
     ]
    }
   ],
   "source": [
    "%%time\n",
    "all_data = []\n",
    "\n",
    "for topic in youtube_df[\"video_title\"].unique():\n",
    "    posts = reddit.subreddit(\"all\").search(query=topic, limit=5, time_filter=time_filter)\n",
    "\n",
    "    for post in posts:\n",
    "        post_data = {\n",
    "            \"youtube_title\": topic,\n",
    "            \"reddit_post_title\": post.title,\n",
    "            \"post_score\": post.score,\n",
    "            \"post_url\": post.url,\n",
    "            \"post_created\": pd.to_datetime(post.created_utc, unit=\"s\"),\n",
    "            \"post_sentiment\": analyze_sentiment(clean_text(post.title)),\n",
    "            \"post_sentiment_emoji\": sentiment_emoji(analyze_sentiment(clean_text(post.title))),\n",
    "        }\n",
    "\n",
    "        # ⛓️ Add top 3 comments per post\n",
    "        post.comments.replace_more(limit=0)\n",
    "        comments = post.comments[:3]\n",
    "        for comment in comments:\n",
    "            cleaned = clean_text(comment.body)\n",
    "            all_data.append({\n",
    "                **post_data,\n",
    "                \"comment\": comment.body,\n",
    "                \"cleaned_comment\": cleaned,\n",
    "                \"comment_sentiment\": analyze_sentiment(cleaned),\n",
    "                \"comment_sentiment_emoji\": sentiment_emoji(analyze_sentiment(cleaned)),\n",
    "                \"comment_author\": str(comment.author),\n",
    "                \"comment_score\": comment.score\n",
    "            })"
   ]
  },
  {
   "cell_type": "markdown",
   "metadata": {
    "id": "oYA7P8ABWwSd"
   },
   "source": [
    "## Analyzing the DataFrame"
   ]
  },
  {
   "cell_type": "code",
   "execution_count": 9,
   "metadata": {
    "executionInfo": {
     "elapsed": 7,
     "status": "ok",
     "timestamp": 1745091272986,
     "user": {
      "displayName": "Revanth Shahukaru",
      "userId": "15386280149867855082"
     },
     "user_tz": 240
    },
    "id": "yf7GHJIwWtX_"
   },
   "outputs": [],
   "source": [
    "df = pd.DataFrame(all_data)"
   ]
  },
  {
   "cell_type": "code",
   "execution_count": 10,
   "metadata": {
    "colab": {
     "base_uri": "https://localhost:8080/",
     "height": 878
    },
    "executionInfo": {
     "elapsed": 313,
     "status": "ok",
     "timestamp": 1745091273301,
     "user": {
      "displayName": "Revanth Shahukaru",
      "userId": "15386280149867855082"
     },
     "user_tz": 240
    },
    "id": "jqSnZhFAWtTd",
    "outputId": "788da4eb-cb5e-4bc2-c20b-7f240019dc15"
   },
   "outputs": [
    {
     "data": {
      "text/html": [
       "<div>\n",
       "<style scoped>\n",
       "    .dataframe tbody tr th:only-of-type {\n",
       "        vertical-align: middle;\n",
       "    }\n",
       "\n",
       "    .dataframe tbody tr th {\n",
       "        vertical-align: top;\n",
       "    }\n",
       "\n",
       "    .dataframe thead th {\n",
       "        text-align: right;\n",
       "    }\n",
       "</style>\n",
       "<table border=\"1\" class=\"dataframe\">\n",
       "  <thead>\n",
       "    <tr style=\"text-align: right;\">\n",
       "      <th></th>\n",
       "      <th>youtube_title</th>\n",
       "      <th>reddit_post_title</th>\n",
       "      <th>post_score</th>\n",
       "      <th>post_url</th>\n",
       "      <th>post_created</th>\n",
       "      <th>post_sentiment</th>\n",
       "      <th>post_sentiment_emoji</th>\n",
       "      <th>comment</th>\n",
       "      <th>cleaned_comment</th>\n",
       "      <th>comment_sentiment</th>\n",
       "      <th>comment_sentiment_emoji</th>\n",
       "      <th>comment_author</th>\n",
       "      <th>comment_score</th>\n",
       "    </tr>\n",
       "  </thead>\n",
       "  <tbody>\n",
       "    <tr>\n",
       "      <th>0</th>\n",
       "      <td>Brawl Talk: A NEW BRAWLER RARITY?!</td>\n",
       "      <td>A NEW BRAWLER RARITY?! Brawl Talk is tomorrow!</td>\n",
       "      <td>2813</td>\n",
       "      <td>https://i.redd.it/qie7r1pu3lve1.jpeg</td>\n",
       "      <td>2025-04-18 12:08:41</td>\n",
       "      <td>0.0</td>\n",
       "      <td>😐</td>\n",
       "      <td>General reminder for subreddit members: Simple...</td>\n",
       "      <td>general reminder for subreddit members simple ...</td>\n",
       "      <td>0.5859</td>\n",
       "      <td>😃</td>\n",
       "      <td>AutoModerator</td>\n",
       "      <td>1</td>\n",
       "    </tr>\n",
       "    <tr>\n",
       "      <th>1</th>\n",
       "      <td>Brawl Talk: A NEW BRAWLER RARITY?!</td>\n",
       "      <td>A NEW BRAWLER RARITY?! Brawl Talk is tomorrow!</td>\n",
       "      <td>2813</td>\n",
       "      <td>https://i.redd.it/qie7r1pu3lve1.jpeg</td>\n",
       "      <td>2025-04-18 12:08:41</td>\n",
       "      <td>0.0</td>\n",
       "      <td>😐</td>\n",
       "      <td>RYAN IS BACK BABY</td>\n",
       "      <td>ryan is back baby</td>\n",
       "      <td>0.0000</td>\n",
       "      <td>😐</td>\n",
       "      <td>Exciting-Year-2343</td>\n",
       "      <td>1071</td>\n",
       "    </tr>\n",
       "    <tr>\n",
       "      <th>2</th>\n",
       "      <td>Brawl Talk: A NEW BRAWLER RARITY?!</td>\n",
       "      <td>A NEW BRAWLER RARITY?! Brawl Talk is tomorrow!</td>\n",
       "      <td>2813</td>\n",
       "      <td>https://i.redd.it/qie7r1pu3lve1.jpeg</td>\n",
       "      <td>2025-04-18 12:08:41</td>\n",
       "      <td>0.0</td>\n",
       "      <td>😐</td>\n",
       "      <td>the silhuette of the prawler is probably in en...</td>\n",
       "      <td>the silhuette of the prawler is probably in en...</td>\n",
       "      <td>0.7783</td>\n",
       "      <td>😃</td>\n",
       "      <td>gamer_withnolife</td>\n",
       "      <td>614</td>\n",
       "    </tr>\n",
       "    <tr>\n",
       "      <th>3</th>\n",
       "      <td>Brawl Talk: A NEW BRAWLER RARITY?!</td>\n",
       "      <td>BRAWL TALK LIVE DICUSSION: Talk about the new ...</td>\n",
       "      <td>11</td>\n",
       "      <td>https://www.reddit.com/gallery/1k2y8ba</td>\n",
       "      <td>2025-04-19 15:01:59</td>\n",
       "      <td>0.0</td>\n",
       "      <td>😐</td>\n",
       "      <td>ultra legendary. jesus. \\*frick.\\*\\n\\nEDIT: I'...</td>\n",
       "      <td>ultra legendary jesus frick\\n\\nedit im scared ...</td>\n",
       "      <td>-0.6697</td>\n",
       "      <td>😠</td>\n",
       "      <td>Capital-Ad3018</td>\n",
       "      <td>12</td>\n",
       "    </tr>\n",
       "    <tr>\n",
       "      <th>4</th>\n",
       "      <td>Brawl Talk: A NEW BRAWLER RARITY?!</td>\n",
       "      <td>BRAWL TALK LIVE DICUSSION: Talk about the new ...</td>\n",
       "      <td>11</td>\n",
       "      <td>https://www.reddit.com/gallery/1k2y8ba</td>\n",
       "      <td>2025-04-19 15:01:59</td>\n",
       "      <td>0.0</td>\n",
       "      <td>😐</td>\n",
       "      <td>They fucked up with the new rarity</td>\n",
       "      <td>they fucked up with the new rarity</td>\n",
       "      <td>-0.6597</td>\n",
       "      <td>😠</td>\n",
       "      <td>Alive-Skeleton</td>\n",
       "      <td>8</td>\n",
       "    </tr>\n",
       "    <tr>\n",
       "      <th>...</th>\n",
       "      <td>...</td>\n",
       "      <td>...</td>\n",
       "      <td>...</td>\n",
       "      <td>...</td>\n",
       "      <td>...</td>\n",
       "      <td>...</td>\n",
       "      <td>...</td>\n",
       "      <td>...</td>\n",
       "      <td>...</td>\n",
       "      <td>...</td>\n",
       "      <td>...</td>\n",
       "      <td>...</td>\n",
       "      <td>...</td>\n",
       "    </tr>\n",
       "    <tr>\n",
       "      <th>56</th>\n",
       "      <td>Remontada épica. Abajo por 2 goles, el Barcelo...</td>\n",
       "      <td>[Match Thread] La Liga: Barcelona x Celta</td>\n",
       "      <td>2</td>\n",
       "      <td>https://www.reddit.com/r/futebol/comments/1k2y...</td>\n",
       "      <td>2025-04-19 15:11:37</td>\n",
       "      <td>0.0</td>\n",
       "      <td>😐</td>\n",
       "      <td>Pedri tentando fazer uma única partida ruim(im...</td>\n",
       "      <td>pedri tentando fazer uma nica partida ruimimpo...</td>\n",
       "      <td>0.0000</td>\n",
       "      <td>😐</td>\n",
       "      <td>LE__guardian</td>\n",
       "      <td>2</td>\n",
       "    </tr>\n",
       "    <tr>\n",
       "      <th>57</th>\n",
       "      <td>Remontada épica. Abajo por 2 goles, el Barcelo...</td>\n",
       "      <td>Resumen de la jornada 25 de la ACB</td>\n",
       "      <td>1</td>\n",
       "      <td>https://www.reddit.com/r/NBAenEspanol/comments...</td>\n",
       "      <td>2025-03-31 03:41:26</td>\n",
       "      <td>0.0</td>\n",
       "      <td>😐</td>\n",
       "      <td>El Leyma Coruña creo que necesitaría acumular ...</td>\n",
       "      <td>el leyma corua creo que necesitara acumular ta...</td>\n",
       "      <td>-0.5267</td>\n",
       "      <td>😠</td>\n",
       "      <td>Galego_nativo</td>\n",
       "      <td>2</td>\n",
       "    </tr>\n",
       "    <tr>\n",
       "      <th>58</th>\n",
       "      <td>Remontada épica. Abajo por 2 goles, el Barcelo...</td>\n",
       "      <td>Resumen de la jornada 25 de la ACB</td>\n",
       "      <td>1</td>\n",
       "      <td>https://www.reddit.com/r/NBAenEspanol/comments...</td>\n",
       "      <td>2025-03-31 03:41:26</td>\n",
       "      <td>0.0</td>\n",
       "      <td>😐</td>\n",
       "      <td>Victoria del Madrid q pudo rotar,  igualado ha...</td>\n",
       "      <td>victoria del madrid q pudo rotar  igualado has...</td>\n",
       "      <td>-0.7003</td>\n",
       "      <td>😠</td>\n",
       "      <td>Fun-Equipment-575</td>\n",
       "      <td>2</td>\n",
       "    </tr>\n",
       "    <tr>\n",
       "      <th>59</th>\n",
       "      <td>Remontada épica. Abajo por 2 goles, el Barcelo...</td>\n",
       "      <td>Resumen de la semana en la Euroliga (jornadas ...</td>\n",
       "      <td>0</td>\n",
       "      <td>https://www.reddit.com/r/NBAenEspanol/comments...</td>\n",
       "      <td>2025-03-29 00:40:52</td>\n",
       "      <td>0.0</td>\n",
       "      <td>😐</td>\n",
       "      <td>Parece que Usman Garuba ha recuperado su mejor...</td>\n",
       "      <td>parece que usman garuba ha recuperado su mejor...</td>\n",
       "      <td>-0.2960</td>\n",
       "      <td>😐</td>\n",
       "      <td>Galego_nativo</td>\n",
       "      <td>1</td>\n",
       "    </tr>\n",
       "    <tr>\n",
       "      <th>60</th>\n",
       "      <td>Remontada épica. Abajo por 2 goles, el Barcelo...</td>\n",
       "      <td>Resumen de la semana en la Euroliga (jornadas ...</td>\n",
       "      <td>0</td>\n",
       "      <td>https://www.reddit.com/r/NBAenEspanol/comments...</td>\n",
       "      <td>2025-03-29 00:40:52</td>\n",
       "      <td>0.0</td>\n",
       "      <td>😐</td>\n",
       "      <td>Bueno.... supo sufrir el Madrid en Belgrado.\\n...</td>\n",
       "      <td>bueno supo sufrir el madrid en belgrado\\n\\nun ...</td>\n",
       "      <td>0.3400</td>\n",
       "      <td>😐</td>\n",
       "      <td>Salty-Car9464</td>\n",
       "      <td>1</td>\n",
       "    </tr>\n",
       "  </tbody>\n",
       "</table>\n",
       "<p>61 rows × 13 columns</p>\n",
       "</div>"
      ],
      "text/plain": [
       "                                        youtube_title  \\\n",
       "0                  Brawl Talk: A NEW BRAWLER RARITY?!   \n",
       "1                  Brawl Talk: A NEW BRAWLER RARITY?!   \n",
       "2                  Brawl Talk: A NEW BRAWLER RARITY?!   \n",
       "3                  Brawl Talk: A NEW BRAWLER RARITY?!   \n",
       "4                  Brawl Talk: A NEW BRAWLER RARITY?!   \n",
       "..                                                ...   \n",
       "56  Remontada épica. Abajo por 2 goles, el Barcelo...   \n",
       "57  Remontada épica. Abajo por 2 goles, el Barcelo...   \n",
       "58  Remontada épica. Abajo por 2 goles, el Barcelo...   \n",
       "59  Remontada épica. Abajo por 2 goles, el Barcelo...   \n",
       "60  Remontada épica. Abajo por 2 goles, el Barcelo...   \n",
       "\n",
       "                                    reddit_post_title  post_score  \\\n",
       "0      A NEW BRAWLER RARITY?! Brawl Talk is tomorrow!        2813   \n",
       "1      A NEW BRAWLER RARITY?! Brawl Talk is tomorrow!        2813   \n",
       "2      A NEW BRAWLER RARITY?! Brawl Talk is tomorrow!        2813   \n",
       "3   BRAWL TALK LIVE DICUSSION: Talk about the new ...          11   \n",
       "4   BRAWL TALK LIVE DICUSSION: Talk about the new ...          11   \n",
       "..                                                ...         ...   \n",
       "56          [Match Thread] La Liga: Barcelona x Celta           2   \n",
       "57                 Resumen de la jornada 25 de la ACB           1   \n",
       "58                 Resumen de la jornada 25 de la ACB           1   \n",
       "59  Resumen de la semana en la Euroliga (jornadas ...           0   \n",
       "60  Resumen de la semana en la Euroliga (jornadas ...           0   \n",
       "\n",
       "                                             post_url        post_created  \\\n",
       "0                https://i.redd.it/qie7r1pu3lve1.jpeg 2025-04-18 12:08:41   \n",
       "1                https://i.redd.it/qie7r1pu3lve1.jpeg 2025-04-18 12:08:41   \n",
       "2                https://i.redd.it/qie7r1pu3lve1.jpeg 2025-04-18 12:08:41   \n",
       "3              https://www.reddit.com/gallery/1k2y8ba 2025-04-19 15:01:59   \n",
       "4              https://www.reddit.com/gallery/1k2y8ba 2025-04-19 15:01:59   \n",
       "..                                                ...                 ...   \n",
       "56  https://www.reddit.com/r/futebol/comments/1k2y... 2025-04-19 15:11:37   \n",
       "57  https://www.reddit.com/r/NBAenEspanol/comments... 2025-03-31 03:41:26   \n",
       "58  https://www.reddit.com/r/NBAenEspanol/comments... 2025-03-31 03:41:26   \n",
       "59  https://www.reddit.com/r/NBAenEspanol/comments... 2025-03-29 00:40:52   \n",
       "60  https://www.reddit.com/r/NBAenEspanol/comments... 2025-03-29 00:40:52   \n",
       "\n",
       "    post_sentiment post_sentiment_emoji  \\\n",
       "0              0.0                    😐   \n",
       "1              0.0                    😐   \n",
       "2              0.0                    😐   \n",
       "3              0.0                    😐   \n",
       "4              0.0                    😐   \n",
       "..             ...                  ...   \n",
       "56             0.0                    😐   \n",
       "57             0.0                    😐   \n",
       "58             0.0                    😐   \n",
       "59             0.0                    😐   \n",
       "60             0.0                    😐   \n",
       "\n",
       "                                              comment  \\\n",
       "0   General reminder for subreddit members: Simple...   \n",
       "1                                   RYAN IS BACK BABY   \n",
       "2   the silhuette of the prawler is probably in en...   \n",
       "3   ultra legendary. jesus. \\*frick.\\*\\n\\nEDIT: I'...   \n",
       "4                  They fucked up with the new rarity   \n",
       "..                                                ...   \n",
       "56  Pedri tentando fazer uma única partida ruim(im...   \n",
       "57  El Leyma Coruña creo que necesitaría acumular ...   \n",
       "58  Victoria del Madrid q pudo rotar,  igualado ha...   \n",
       "59  Parece que Usman Garuba ha recuperado su mejor...   \n",
       "60  Bueno.... supo sufrir el Madrid en Belgrado.\\n...   \n",
       "\n",
       "                                      cleaned_comment  comment_sentiment  \\\n",
       "0   general reminder for subreddit members simple ...             0.5859   \n",
       "1                                   ryan is back baby             0.0000   \n",
       "2   the silhuette of the prawler is probably in en...             0.7783   \n",
       "3   ultra legendary jesus frick\\n\\nedit im scared ...            -0.6697   \n",
       "4                  they fucked up with the new rarity            -0.6597   \n",
       "..                                                ...                ...   \n",
       "56  pedri tentando fazer uma nica partida ruimimpo...             0.0000   \n",
       "57  el leyma corua creo que necesitara acumular ta...            -0.5267   \n",
       "58  victoria del madrid q pudo rotar  igualado has...            -0.7003   \n",
       "59  parece que usman garuba ha recuperado su mejor...            -0.2960   \n",
       "60  bueno supo sufrir el madrid en belgrado\\n\\nun ...             0.3400   \n",
       "\n",
       "   comment_sentiment_emoji      comment_author  comment_score  \n",
       "0                        😃       AutoModerator              1  \n",
       "1                        😐  Exciting-Year-2343           1071  \n",
       "2                        😃    gamer_withnolife            614  \n",
       "3                        😠      Capital-Ad3018             12  \n",
       "4                        😠      Alive-Skeleton              8  \n",
       "..                     ...                 ...            ...  \n",
       "56                       😐        LE__guardian              2  \n",
       "57                       😠       Galego_nativo              2  \n",
       "58                       😠   Fun-Equipment-575              2  \n",
       "59                       😐       Galego_nativo              1  \n",
       "60                       😐       Salty-Car9464              1  \n",
       "\n",
       "[61 rows x 13 columns]"
      ]
     },
     "execution_count": 10,
     "metadata": {},
     "output_type": "execute_result"
    }
   ],
   "source": [
    "df"
   ]
  },
  {
   "cell_type": "markdown",
   "metadata": {
    "id": "q9m7IyzVaetW"
   },
   "source": [
    "## Checking Downvoted Comments"
   ]
  },
  {
   "cell_type": "code",
   "execution_count": 11,
   "metadata": {
    "executionInfo": {
     "elapsed": 1,
     "status": "ok",
     "timestamp": 1745091273303,
     "user": {
      "displayName": "Revanth Shahukaru",
      "userId": "15386280149867855082"
     },
     "user_tz": 240
    },
    "id": "pYSupeXCWtOp"
   },
   "outputs": [],
   "source": [
    "df[df[\"comment_score\"] < 0][[\"comment\", \"comment_score\"]]\n",
    "\n",
    "for comment, comment_score in zip(df[\"comment\"], df[\"comment_score\"]):\n",
    "    if comment_score < 0:\n",
    "        print(f\"Comment:\\n{comment}\", f\"Comment Score:\\n{comment_score}\", sep=\"\\n\\n\")"
   ]
  },
  {
   "cell_type": "markdown",
   "metadata": {
    "id": "JxziBZSXWm4c"
   },
   "source": [
    "## 💾 Save to CSV"
   ]
  },
  {
   "cell_type": "code",
   "execution_count": 12,
   "metadata": {
    "executionInfo": {
     "elapsed": 132,
     "status": "ok",
     "timestamp": 1745091273454,
     "user": {
      "displayName": "Revanth Shahukaru",
      "userId": "15386280149867855082"
     },
     "user_tz": 240
    },
    "id": "R9d9ep2UV8Vg"
   },
   "outputs": [],
   "source": [
    "df.to_csv(\"../data/reddit_data.csv\", index=False)"
   ]
  },
  {
   "cell_type": "code",
   "execution_count": null,
   "metadata": {},
   "outputs": [],
   "source": []
  }
 ],
 "metadata": {
  "colab": {
   "authorship_tag": "ABX9TyNzjfyPJcBPdHZIF+Qxbw7i",
   "mount_file_id": "15sSox08qpH3gll6DB2mYIYf0mIacqb3h",
   "provenance": []
  },
  "kernelspec": {
   "display_name": "venv",
   "language": "python",
   "name": "python3"
  },
  "language_info": {
   "codemirror_mode": {
    "name": "ipython",
    "version": 3
   },
   "file_extension": ".py",
   "mimetype": "text/x-python",
   "name": "python",
   "nbconvert_exporter": "python",
   "pygments_lexer": "ipython3",
   "version": "3.12.1"
  }
 },
 "nbformat": 4,
 "nbformat_minor": 0
}
