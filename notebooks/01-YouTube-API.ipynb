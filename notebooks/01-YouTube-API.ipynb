{
 "cells": [
  {
   "cell_type": "markdown",
   "metadata": {
    "id": "s8hhTjgoM5T8"
   },
   "source": [
    "## Getting API Keys"
   ]
  },
  {
   "cell_type": "code",
   "execution_count": 12,
   "metadata": {
    "colab": {
     "base_uri": "https://localhost:8080/"
    },
    "executionInfo": {
     "elapsed": 8085,
     "status": "ok",
     "timestamp": 1745091181861,
     "user": {
      "displayName": "Revanth Shahukaru",
      "userId": "15386280149867855082"
     },
     "user_tz": 240
    },
    "id": "OJqMmT9uGCIf",
    "outputId": "ca681cea-a347-4abc-907d-b6f6d1448211"
   },
   "outputs": [],
   "source": [
    "from dotenv import load_dotenv\n",
    "import os\n",
    "\n",
    "load_dotenv()\n",
    "\n",
    "YT_KEY = os.getenv(\"YOUTUBE_API_KEY\")"
   ]
  },
  {
   "cell_type": "markdown",
   "metadata": {
    "id": "GwUMHtiWQtiV"
   },
   "source": [
    "## Importing Necessary Libraries"
   ]
  },
  {
   "cell_type": "code",
   "execution_count": 13,
   "metadata": {
    "id": "ggoJGTi9Qt61"
   },
   "outputs": [],
   "source": [
    "from googleapiclient.discovery import build\n",
    "from googleapiclient.errors import HttpError\n",
    "from youtube_transcript_api import YouTubeTranscriptApi\n",
    "from vaderSentiment.vaderSentiment import SentimentIntensityAnalyzer\n",
    "import pandas as pd"
   ]
  },
  {
   "cell_type": "markdown",
   "metadata": {
    "id": "s6FUy-S_NGM1"
   },
   "source": [
    "## 🔑 Authenticate with YouTube Data API v3"
   ]
  },
  {
   "cell_type": "code",
   "execution_count": 14,
   "metadata": {
    "id": "XlQ5x_PoM0QK"
   },
   "outputs": [],
   "source": [
    "YOUTUBE_API_KEY = YT_KEY\n",
    "youtube = build('youtube', 'v3', developerKey=YOUTUBE_API_KEY)\n",
    "analyzer = SentimentIntensityAnalyzer()"
   ]
  },
  {
   "cell_type": "markdown",
   "metadata": {
    "id": "u2cvU5x7NMZZ"
   },
   "source": [
    "## 🔥 Get Trending Videos (from YouTube)"
   ]
  },
  {
   "cell_type": "code",
   "execution_count": 15,
   "metadata": {
    "id": "PwgMs048M0UD"
   },
   "outputs": [],
   "source": [
    "def get_trending_videos(region_code='US', max_results=50):\n",
    "    request = youtube.videos().list(\n",
    "        part=\"snippet,statistics\",\n",
    "        chart=\"mostPopular\",\n",
    "        regionCode=region_code,\n",
    "        maxResults=max_results\n",
    "    )\n",
    "    response = request.execute()\n",
    "    videos = [{\n",
    "        'video_id': item['id'],\n",
    "        'title': item['snippet']['title'],\n",
    "        'channel': item['snippet']['channelTitle'],\n",
    "        'description': item['snippet']['description']\n",
    "    } for item in response['items']]\n",
    "    return videos"
   ]
  },
  {
   "cell_type": "markdown",
   "metadata": {
    "id": "Rz0U9ZS3NP6x"
   },
   "source": [
    "## 🧠 Extract Transcripts"
   ]
  },
  {
   "cell_type": "code",
   "execution_count": 16,
   "metadata": {
    "id": "Df2hr3TwM0YI"
   },
   "outputs": [],
   "source": [
    "def get_transcript(video_id):\n",
    "    try:\n",
    "        transcript = YouTubeTranscriptApi.get_transcript(video_id)\n",
    "        return ' '.join([entry['text'] for entry in transcript])\n",
    "    except:\n",
    "        return \"\""
   ]
  },
  {
   "cell_type": "markdown",
   "metadata": {
    "id": "T-z4kSDANUtB"
   },
   "source": [
    "## 💬 Fetch Comments"
   ]
  },
  {
   "cell_type": "code",
   "execution_count": 17,
   "metadata": {
    "id": "cMte8ALGM0cQ"
   },
   "outputs": [],
   "source": [
    "def get_comments(video_id, max_comments=5):\n",
    "    try:\n",
    "        request = youtube.commentThreads().list(\n",
    "            part=\"snippet\",\n",
    "            videoId=video_id,\n",
    "            maxResults=max_comments,\n",
    "            textFormat=\"plainText\"\n",
    "        )\n",
    "        response = request.execute()\n",
    "        if 'items' in response:\n",
    "            return [item['snippet']['topLevelComment']['snippet']['textDisplay'] for item in response['items']]\n",
    "        else:\n",
    "            return []\n",
    "    except HttpError as e:\n",
    "        if e.resp.status == 403:\n",
    "            print(f\"🚫 Comments disabled for video: {video_id}\")\n",
    "        else:\n",
    "            print(f\"⚠️ Error for video {video_id}: {e}\")\n",
    "        return []"
   ]
  },
  {
   "cell_type": "markdown",
   "metadata": {
    "id": "GrHWBxkENcaN"
   },
   "source": [
    "## 🧪 Put It Together"
   ]
  },
  {
   "cell_type": "code",
   "execution_count": null,
   "metadata": {
    "colab": {
     "base_uri": "https://localhost:8080/"
    },
    "executionInfo": {
     "elapsed": 11314,
     "status": "ok",
     "timestamp": 1745091194361,
     "user": {
      "displayName": "Revanth Shahukaru",
      "userId": "15386280149867855082"
     },
     "user_tz": 240
    },
    "id": "9yGQe24UM0k_",
    "outputId": "daf56de6-2c5c-4d9a-bd0e-875768a37a75"
   },
   "outputs": [
    {
     "name": "stdout",
     "output_type": "stream",
     "text": [
      "✅ Finished collecting data.\n",
      "CPU times: user 249 ms, sys: 34.8 ms, total: 284 ms\n",
      "Wall time: 10.2 s\n"
     ]
    }
   ],
   "source": [
    "%%time\n",
    "desired_video_count = 15\n",
    "collected = 0\n",
    "data = []\n",
    "\n",
    "all_videos = get_trending_videos(max_results=50)\n",
    "\n",
    "for vid in all_videos:\n",
    "    if collected >= desired_video_count:\n",
    "        break\n",
    "\n",
    "    video_id = vid['video_id']\n",
    "    comments = get_comments(video_id, max_comments=50)\n",
    "\n",
    "    if not comments:\n",
    "        continue  # Skip video if no usable comments\n",
    "\n",
    "    transcript = get_transcript(video_id)\n",
    "    transcript_sentiment = analyzer.polarity_scores(transcript)['compound']\n",
    "\n",
    "    video_url = f\"https://www.youtube.com/watch?v={video_id}\"\n",
    "\n",
    "    for comment in comments:\n",
    "        data.append({\n",
    "            'video_title': vid['title'],\n",
    "            'channel': vid['channel'],\n",
    "            'comment': comment,\n",
    "            'comment_sentiment': analyzer.polarity_scores(comment)['compound'],\n",
    "            'transcript_sentiment': transcript_sentiment,\n",
    "            'video_url': video_url  # ✅ added here\n",
    "        })\n",
    "\n",
    "    collected += 1\n",
    "\n",
    "df = pd.DataFrame(data)\n",
    "df.to_csv(\"../data/youtube_data.csv\", index=False)\n",
    "print(\"✅ Finished collecting data.\")\n"
   ]
  },
  {
   "cell_type": "code",
   "execution_count": 19,
   "metadata": {
    "colab": {
     "base_uri": "https://localhost:8080/",
     "height": 380
    },
    "executionInfo": {
     "elapsed": 14,
     "status": "ok",
     "timestamp": 1745091194362,
     "user": {
      "displayName": "Revanth Shahukaru",
      "userId": "15386280149867855082"
     },
     "user_tz": 240
    },
    "id": "7uDuyj-_PEPA",
    "outputId": "086160bf-b5a9-4b39-9793-d2ca30c525bd"
   },
   "outputs": [
    {
     "data": {
      "text/html": [
       "<div>\n",
       "<style scoped>\n",
       "    .dataframe tbody tr th:only-of-type {\n",
       "        vertical-align: middle;\n",
       "    }\n",
       "\n",
       "    .dataframe tbody tr th {\n",
       "        vertical-align: top;\n",
       "    }\n",
       "\n",
       "    .dataframe thead th {\n",
       "        text-align: right;\n",
       "    }\n",
       "</style>\n",
       "<table border=\"1\" class=\"dataframe\">\n",
       "  <thead>\n",
       "    <tr style=\"text-align: right;\">\n",
       "      <th></th>\n",
       "      <th>video_title</th>\n",
       "      <th>channel</th>\n",
       "      <th>comment</th>\n",
       "      <th>comment_sentiment</th>\n",
       "      <th>transcript_sentiment</th>\n",
       "      <th>video_url</th>\n",
       "    </tr>\n",
       "  </thead>\n",
       "  <tbody>\n",
       "    <tr>\n",
       "      <th>59</th>\n",
       "      <td>EBK Jaaybo - Homebody (Official Music Video)</td>\n",
       "      <td>EBK Jaaybo</td>\n",
       "      <td>Gzz</td>\n",
       "      <td>0.0000</td>\n",
       "      <td>0.0</td>\n",
       "      <td>https://www.youtube.com/watch?v=sI0VDF65Cac</td>\n",
       "    </tr>\n",
       "    <tr>\n",
       "      <th>60</th>\n",
       "      <td>EBK Jaaybo - Homebody (Official Music Video)</td>\n",
       "      <td>EBK Jaaybo</td>\n",
       "      <td>Standover mUsik nexr</td>\n",
       "      <td>0.0000</td>\n",
       "      <td>0.0</td>\n",
       "      <td>https://www.youtube.com/watch?v=sI0VDF65Cac</td>\n",
       "    </tr>\n",
       "    <tr>\n",
       "      <th>61</th>\n",
       "      <td>EBK Jaaybo - Homebody (Official Music Video)</td>\n",
       "      <td>EBK Jaaybo</td>\n",
       "      <td>GOOD MIX . KEEP ENGINEER</td>\n",
       "      <td>0.5622</td>\n",
       "      <td>0.0</td>\n",
       "      <td>https://www.youtube.com/watch?v=sI0VDF65Cac</td>\n",
       "    </tr>\n",
       "    <tr>\n",
       "      <th>62</th>\n",
       "      <td>EBK Jaaybo - Homebody (Official Music Video)</td>\n",
       "      <td>EBK Jaaybo</td>\n",
       "      <td>Gzz</td>\n",
       "      <td>0.0000</td>\n",
       "      <td>0.0</td>\n",
       "      <td>https://www.youtube.com/watch?v=sI0VDF65Cac</td>\n",
       "    </tr>\n",
       "    <tr>\n",
       "      <th>63</th>\n",
       "      <td>EBK Jaaybo - Homebody (Official Music Video)</td>\n",
       "      <td>EBK Jaaybo</td>\n",
       "      <td>this nigga on a gen run like yb every song top...</td>\n",
       "      <td>0.5106</td>\n",
       "      <td>0.0</td>\n",
       "      <td>https://www.youtube.com/watch?v=sI0VDF65Cac</td>\n",
       "    </tr>\n",
       "    <tr>\n",
       "      <th>64</th>\n",
       "      <td>아스트로(ASTRO) - 꿈속의 문(Moon) : Memory of the Moon</td>\n",
       "      <td>ASTRO 아스트로</td>\n",
       "      <td>😢😢😢😢😘😘</td>\n",
       "      <td>-0.7783</td>\n",
       "      <td>0.0</td>\n",
       "      <td>https://www.youtube.com/watch?v=UUFJlUy5aA4</td>\n",
       "    </tr>\n",
       "    <tr>\n",
       "      <th>65</th>\n",
       "      <td>아스트로(ASTRO) - 꿈속의 문(Moon) : Memory of the Moon</td>\n",
       "      <td>ASTRO 아스트로</td>\n",
       "      <td>La cancion es increible u toca el corazon de u...</td>\n",
       "      <td>0.0000</td>\n",
       "      <td>0.0</td>\n",
       "      <td>https://www.youtube.com/watch?v=UUFJlUy5aA4</td>\n",
       "    </tr>\n",
       "    <tr>\n",
       "      <th>66</th>\n",
       "      <td>아스트로(ASTRO) - 꿈속의 문(Moon) : Memory of the Moon</td>\n",
       "      <td>ASTRO 아스트로</td>\n",
       "      <td>Beautiful song! I cried like a baby and felt t...</td>\n",
       "      <td>0.9686</td>\n",
       "      <td>0.0</td>\n",
       "      <td>https://www.youtube.com/watch?v=UUFJlUy5aA4</td>\n",
       "    </tr>\n",
       "    <tr>\n",
       "      <th>67</th>\n",
       "      <td>아스트로(ASTRO) - 꿈속의 문(Moon) : Memory of the Moon</td>\n",
       "      <td>ASTRO 아스트로</td>\n",
       "      <td>I've been an Astro fan for a lot of  years. I ...</td>\n",
       "      <td>-0.8591</td>\n",
       "      <td>0.0</td>\n",
       "      <td>https://www.youtube.com/watch?v=UUFJlUy5aA4</td>\n",
       "    </tr>\n",
       "    <tr>\n",
       "      <th>68</th>\n",
       "      <td>아스트로(ASTRO) - 꿈속의 문(Moon) : Memory of the Moon</td>\n",
       "      <td>ASTRO 아스트로</td>\n",
       "      <td>This song was soo strong.... I am not an Astro...</td>\n",
       "      <td>0.9323</td>\n",
       "      <td>0.0</td>\n",
       "      <td>https://www.youtube.com/watch?v=UUFJlUy5aA4</td>\n",
       "    </tr>\n",
       "    <tr>\n",
       "      <th>69</th>\n",
       "      <td>Star Wars Zero Company | Official Announce Tra...</td>\n",
       "      <td>EA Star Wars</td>\n",
       "      <td>Wishlist STAR WARS Zero Company now:\\n\\n- Stea...</td>\n",
       "      <td>-0.6523</td>\n",
       "      <td>0.0</td>\n",
       "      <td>https://www.youtube.com/watch?v=rcxnRaZ6slU</td>\n",
       "    </tr>\n",
       "    <tr>\n",
       "      <th>70</th>\n",
       "      <td>Star Wars Zero Company | Official Announce Tra...</td>\n",
       "      <td>EA Star Wars</td>\n",
       "      <td>Imagine if it came with mod support.  Hopefull...</td>\n",
       "      <td>0.4767</td>\n",
       "      <td>0.0</td>\n",
       "      <td>https://www.youtube.com/watch?v=rcxnRaZ6slU</td>\n",
       "    </tr>\n",
       "    <tr>\n",
       "      <th>71</th>\n",
       "      <td>Star Wars Zero Company | Official Announce Tra...</td>\n",
       "      <td>EA Star Wars</td>\n",
       "      <td>A Jedi , Mandolorian , scoundrel , bounty hunt...</td>\n",
       "      <td>0.0000</td>\n",
       "      <td>0.0</td>\n",
       "      <td>https://www.youtube.com/watch?v=rcxnRaZ6slU</td>\n",
       "    </tr>\n",
       "    <tr>\n",
       "      <th>72</th>\n",
       "      <td>Star Wars Zero Company | Official Announce Tra...</td>\n",
       "      <td>EA Star Wars</td>\n",
       "      <td>XCOM Star Wars</td>\n",
       "      <td>-0.5574</td>\n",
       "      <td>0.0</td>\n",
       "      <td>https://www.youtube.com/watch?v=rcxnRaZ6slU</td>\n",
       "    </tr>\n",
       "    <tr>\n",
       "      <th>73</th>\n",
       "      <td>Star Wars Zero Company | Official Announce Tra...</td>\n",
       "      <td>EA Star Wars</td>\n",
       "      <td>They just had to ruin it and make it an X-Com ...</td>\n",
       "      <td>-0.5859</td>\n",
       "      <td>0.0</td>\n",
       "      <td>https://www.youtube.com/watch?v=rcxnRaZ6slU</td>\n",
       "    </tr>\n",
       "  </tbody>\n",
       "</table>\n",
       "</div>"
      ],
      "text/plain": [
       "                                          video_title       channel  \\\n",
       "59       EBK Jaaybo - Homebody (Official Music Video)    EBK Jaaybo   \n",
       "60       EBK Jaaybo - Homebody (Official Music Video)    EBK Jaaybo   \n",
       "61       EBK Jaaybo - Homebody (Official Music Video)    EBK Jaaybo   \n",
       "62       EBK Jaaybo - Homebody (Official Music Video)    EBK Jaaybo   \n",
       "63       EBK Jaaybo - Homebody (Official Music Video)    EBK Jaaybo   \n",
       "64     아스트로(ASTRO) - 꿈속의 문(Moon) : Memory of the Moon    ASTRO 아스트로   \n",
       "65     아스트로(ASTRO) - 꿈속의 문(Moon) : Memory of the Moon    ASTRO 아스트로   \n",
       "66     아스트로(ASTRO) - 꿈속의 문(Moon) : Memory of the Moon    ASTRO 아스트로   \n",
       "67     아스트로(ASTRO) - 꿈속의 문(Moon) : Memory of the Moon    ASTRO 아스트로   \n",
       "68     아스트로(ASTRO) - 꿈속의 문(Moon) : Memory of the Moon    ASTRO 아스트로   \n",
       "69  Star Wars Zero Company | Official Announce Tra...  EA Star Wars   \n",
       "70  Star Wars Zero Company | Official Announce Tra...  EA Star Wars   \n",
       "71  Star Wars Zero Company | Official Announce Tra...  EA Star Wars   \n",
       "72  Star Wars Zero Company | Official Announce Tra...  EA Star Wars   \n",
       "73  Star Wars Zero Company | Official Announce Tra...  EA Star Wars   \n",
       "\n",
       "                                              comment  comment_sentiment  \\\n",
       "59                                                Gzz             0.0000   \n",
       "60                               Standover mUsik nexr             0.0000   \n",
       "61                           GOOD MIX . KEEP ENGINEER             0.5622   \n",
       "62                                                Gzz             0.0000   \n",
       "63  this nigga on a gen run like yb every song top...             0.5106   \n",
       "64                                             😢😢😢😢😘😘            -0.7783   \n",
       "65  La cancion es increible u toca el corazon de u...             0.0000   \n",
       "66  Beautiful song! I cried like a baby and felt t...             0.9686   \n",
       "67  I've been an Astro fan for a lot of  years. I ...            -0.8591   \n",
       "68  This song was soo strong.... I am not an Astro...             0.9323   \n",
       "69  Wishlist STAR WARS Zero Company now:\\n\\n- Stea...            -0.6523   \n",
       "70  Imagine if it came with mod support.  Hopefull...             0.4767   \n",
       "71  A Jedi , Mandolorian , scoundrel , bounty hunt...             0.0000   \n",
       "72                                     XCOM Star Wars            -0.5574   \n",
       "73  They just had to ruin it and make it an X-Com ...            -0.5859   \n",
       "\n",
       "    transcript_sentiment                                    video_url  \n",
       "59                   0.0  https://www.youtube.com/watch?v=sI0VDF65Cac  \n",
       "60                   0.0  https://www.youtube.com/watch?v=sI0VDF65Cac  \n",
       "61                   0.0  https://www.youtube.com/watch?v=sI0VDF65Cac  \n",
       "62                   0.0  https://www.youtube.com/watch?v=sI0VDF65Cac  \n",
       "63                   0.0  https://www.youtube.com/watch?v=sI0VDF65Cac  \n",
       "64                   0.0  https://www.youtube.com/watch?v=UUFJlUy5aA4  \n",
       "65                   0.0  https://www.youtube.com/watch?v=UUFJlUy5aA4  \n",
       "66                   0.0  https://www.youtube.com/watch?v=UUFJlUy5aA4  \n",
       "67                   0.0  https://www.youtube.com/watch?v=UUFJlUy5aA4  \n",
       "68                   0.0  https://www.youtube.com/watch?v=UUFJlUy5aA4  \n",
       "69                   0.0  https://www.youtube.com/watch?v=rcxnRaZ6slU  \n",
       "70                   0.0  https://www.youtube.com/watch?v=rcxnRaZ6slU  \n",
       "71                   0.0  https://www.youtube.com/watch?v=rcxnRaZ6slU  \n",
       "72                   0.0  https://www.youtube.com/watch?v=rcxnRaZ6slU  \n",
       "73                   0.0  https://www.youtube.com/watch?v=rcxnRaZ6slU  "
      ]
     },
     "execution_count": 19,
     "metadata": {},
     "output_type": "execute_result"
    }
   ],
   "source": [
    "df.tail(15)"
   ]
  },
  {
   "cell_type": "code",
   "execution_count": 20,
   "metadata": {
    "colab": {
     "base_uri": "https://localhost:8080/"
    },
    "executionInfo": {
     "elapsed": 19,
     "status": "ok",
     "timestamp": 1745091194380,
     "user": {
      "displayName": "Revanth Shahukaru",
      "userId": "15386280149867855082"
     },
     "user_tz": 240
    },
    "id": "YSqXP-i6PEHT",
    "outputId": "c835739d-6f9a-47db-c7ea-ed8940bb713d"
   },
   "outputs": [
    {
     "name": "stdout",
     "output_type": "stream",
     "text": [
      "<class 'pandas.core.frame.DataFrame'>\n",
      "RangeIndex: 74 entries, 0 to 73\n",
      "Data columns (total 6 columns):\n",
      " #   Column                Non-Null Count  Dtype  \n",
      "---  ------                --------------  -----  \n",
      " 0   video_title           74 non-null     object \n",
      " 1   channel               74 non-null     object \n",
      " 2   comment               74 non-null     object \n",
      " 3   comment_sentiment     74 non-null     float64\n",
      " 4   transcript_sentiment  74 non-null     float64\n",
      " 5   video_url             74 non-null     object \n",
      "dtypes: float64(2), object(4)\n",
      "memory usage: 3.6+ KB\n"
     ]
    }
   ],
   "source": [
    "df.info()"
   ]
  },
  {
   "cell_type": "code",
   "execution_count": 21,
   "metadata": {
    "colab": {
     "base_uri": "https://localhost:8080/",
     "height": 272
    },
    "executionInfo": {
     "elapsed": 3,
     "status": "ok",
     "timestamp": 1745091194382,
     "user": {
      "displayName": "Revanth Shahukaru",
      "userId": "15386280149867855082"
     },
     "user_tz": 240
    },
    "id": "Nvo_h0FTPEDN",
    "outputId": "c03983ae-d236-4287-dba2-98a2784256ad"
   },
   "outputs": [
    {
     "data": {
      "text/plain": [
       "video_title\n",
       "Brawl Talk: A NEW BRAWLER RARITY?!                                                                      5\n",
       "$1 vs $25,000 Build Challenge                                                                           5\n",
       "Doechii - Anxiety (Official Video)                                                                      5\n",
       "Remontada épica. Abajo por 2 goles, el Barcelona ganó 4-3 a Celta de Vigo. Raphinha, héroe | La Liga    5\n",
       "My Daughter Survives TEN BROTHERS                                                                       5\n",
       "HIM | Official Teaser Trailer                                                                           5\n",
       "Man. United vs. Lyon: Extended Highlights | UEL Quarter-final Leg 2 | CBS Sports Golazo - Europe        5\n",
       "Telling My Husband I'm Pregnant                                                                         5\n",
       "The Best Things In Life Are Unexpected... WE'RE PREGNANT!                                               5\n",
       "The Fantastic Four: First Steps | Official Trailer | Only in Theaters July 25                           5\n",
       "Simulating an Ant Colony For 100 Days                                                                   5\n",
       "아스트로(ASTRO) - 꿈속의 문(Moon) : Memory of the Moon                                                          5\n",
       "EBK Jaaybo - Homebody (Official Music Video)                                                            5\n",
       "Star Wars Zero Company | Official Announce Trailer                                                      5\n",
       "THE GASLIGHT DISTRICT: PILOT                                                                            4\n",
       "Name: count, dtype: int64"
      ]
     },
     "execution_count": 21,
     "metadata": {},
     "output_type": "execute_result"
    }
   ],
   "source": [
    "df[\"video_title\"].value_counts()"
   ]
  },
  {
   "cell_type": "markdown",
   "metadata": {
    "id": "aCEzQQ6sW-_O"
   },
   "source": [
    "## 💾 Save to CSV"
   ]
  },
  {
   "cell_type": "code",
   "execution_count": 22,
   "metadata": {
    "id": "oCFgiIqNW8Ne"
   },
   "outputs": [],
   "source": [
    "df.to_csv(\"../data/youtube_data.csv\", index=False)"
   ]
  },
  {
   "cell_type": "markdown",
   "metadata": {
    "id": "wCitpDUIN8sk"
   },
   "source": [
    "### 🔮 Suggested Combined Analysis for Master Notebook\n",
    "**Once Reddit and YouTube data are merged:**\n",
    "\n",
    "✅ Sentiment Comparison  \n",
    "Compare Reddit vs. YouTube sentiment for the same topic.\n",
    "\n",
    "Highlight divergence between video vs. comments sentiment.\n",
    "\n",
    "✅ Engagement Analysis  \n",
    "Plot word count vs. sentiment.  \n",
    "\n",
    "Comment likes vs. sentiment score (for YouTube).  \n",
    "\n",
    "✅ Timeline Tracking  \n",
    "If timestamped, see how sentiment evolves over time across platforms.  \n",
    "\n",
    "✅ Word Cloud or Topic Modeling  \n",
    "Extract common themes using LDA or nltk.FreqDist."
   ]
  }
 ],
 "metadata": {
  "colab": {
   "provenance": []
  },
  "kernelspec": {
   "display_name": "venv",
   "language": "python",
   "name": "python3"
  },
  "language_info": {
   "codemirror_mode": {
    "name": "ipython",
    "version": 3
   },
   "file_extension": ".py",
   "mimetype": "text/x-python",
   "name": "python",
   "nbconvert_exporter": "python",
   "pygments_lexer": "ipython3",
   "version": "3.12.1"
  }
 },
 "nbformat": 4,
 "nbformat_minor": 0
}
