{
 "cells": [
  {
   "cell_type": "markdown",
   "metadata": {
    "id": "s8hhTjgoM5T8"
   },
   "source": [
    "## Getting API Keys"
   ]
  },
  {
   "cell_type": "code",
   "execution_count": 19,
   "metadata": {
    "colab": {
     "base_uri": "https://localhost:8080/"
    },
    "executionInfo": {
     "elapsed": 8085,
     "status": "ok",
     "timestamp": 1745091181861,
     "user": {
      "displayName": "Revanth Shahukaru",
      "userId": "15386280149867855082"
     },
     "user_tz": 240
    },
    "id": "OJqMmT9uGCIf",
    "outputId": "ca681cea-a347-4abc-907d-b6f6d1448211"
   },
   "outputs": [],
   "source": [
    "from dotenv import load_dotenv\n",
    "import os\n",
    "\n",
    "load_dotenv()\n",
    "\n",
    "YT_KEY = os.getenv(\"YOUTUBE_API_KEY\")"
   ]
  },
  {
   "cell_type": "markdown",
   "metadata": {
    "id": "GwUMHtiWQtiV"
   },
   "source": [
    "## Importing Necessary Libraries"
   ]
  },
  {
   "cell_type": "code",
   "execution_count": 20,
   "metadata": {
    "id": "ggoJGTi9Qt61"
   },
   "outputs": [],
   "source": [
    "from googleapiclient.discovery import build\n",
    "from googleapiclient.errors import HttpError\n",
    "from youtube_transcript_api import YouTubeTranscriptApi\n",
    "from vaderSentiment.vaderSentiment import SentimentIntensityAnalyzer\n",
    "import pandas as pd"
   ]
  },
  {
   "cell_type": "markdown",
   "metadata": {
    "id": "s6FUy-S_NGM1"
   },
   "source": [
    "## 🔑 Authenticate with YouTube Data API v3"
   ]
  },
  {
   "cell_type": "code",
   "execution_count": 21,
   "metadata": {
    "id": "XlQ5x_PoM0QK"
   },
   "outputs": [],
   "source": [
    "YOUTUBE_API_KEY = YT_KEY\n",
    "youtube = build('youtube', 'v3', developerKey=YOUTUBE_API_KEY)\n",
    "analyzer = SentimentIntensityAnalyzer()"
   ]
  },
  {
   "cell_type": "markdown",
   "metadata": {
    "id": "u2cvU5x7NMZZ"
   },
   "source": [
    "## 🔥 Get Trending Videos (from YouTube)"
   ]
  },
  {
   "cell_type": "code",
   "execution_count": 22,
   "metadata": {
    "id": "PwgMs048M0UD"
   },
   "outputs": [],
   "source": [
    "def get_trending_videos(region_code='US', max_results=50):\n",
    "    request = youtube.videos().list(\n",
    "        part=\"snippet,statistics\",\n",
    "        chart=\"mostPopular\",\n",
    "        regionCode=region_code,\n",
    "        maxResults=max_results\n",
    "    )\n",
    "    response = request.execute()\n",
    "    videos = [{\n",
    "        'video_id': item['id'],\n",
    "        'title': item['snippet']['title'],\n",
    "        'channel': item['snippet']['channelTitle'],\n",
    "        'description': item['snippet']['description']\n",
    "    } for item in response['items']]\n",
    "    return videos"
   ]
  },
  {
   "cell_type": "markdown",
   "metadata": {
    "id": "Rz0U9ZS3NP6x"
   },
   "source": [
    "## 🧠 Extract Transcripts"
   ]
  },
  {
   "cell_type": "code",
   "execution_count": 23,
   "metadata": {
    "id": "Df2hr3TwM0YI"
   },
   "outputs": [],
   "source": [
    "def get_transcript(video_id):\n",
    "    try:\n",
    "        transcript = YouTubeTranscriptApi.get_transcript(video_id)\n",
    "        return ' '.join([entry['text'] for entry in transcript])\n",
    "    except:\n",
    "        return \"\""
   ]
  },
  {
   "cell_type": "markdown",
   "metadata": {
    "id": "T-z4kSDANUtB"
   },
   "source": [
    "## 💬 Fetch Comments"
   ]
  },
  {
   "cell_type": "code",
   "execution_count": 24,
   "metadata": {
    "id": "cMte8ALGM0cQ"
   },
   "outputs": [],
   "source": [
    "def get_comments(video_id, max_comments=5):\n",
    "    try:\n",
    "        request = youtube.commentThreads().list(\n",
    "            part=\"snippet\",\n",
    "            videoId=video_id,\n",
    "            maxResults=max_comments,\n",
    "            textFormat=\"plainText\"\n",
    "        )\n",
    "        response = request.execute()\n",
    "        if 'items' in response:\n",
    "            return [item['snippet']['topLevelComment']['snippet']['textDisplay'] for item in response['items']]\n",
    "        else:\n",
    "            return []\n",
    "    except HttpError as e:\n",
    "        if e.resp.status == 403:\n",
    "            print(f\"🚫 Comments disabled for video: {video_id}\")\n",
    "        else:\n",
    "            print(f\"⚠️ Error for video {video_id}: {e}\")\n",
    "        return []"
   ]
  },
  {
   "cell_type": "markdown",
   "metadata": {
    "id": "GrHWBxkENcaN"
   },
   "source": [
    "## 🧪 Put It Together"
   ]
  },
  {
   "cell_type": "code",
   "execution_count": 25,
   "metadata": {
    "colab": {
     "base_uri": "https://localhost:8080/"
    },
    "executionInfo": {
     "elapsed": 11314,
     "status": "ok",
     "timestamp": 1745091194361,
     "user": {
      "displayName": "Revanth Shahukaru",
      "userId": "15386280149867855082"
     },
     "user_tz": 240
    },
    "id": "9yGQe24UM0k_",
    "outputId": "daf56de6-2c5c-4d9a-bd0e-875768a37a75"
   },
   "outputs": [
    {
     "name": "stdout",
     "output_type": "stream",
     "text": [
      "✅ Finished collecting data.\n",
      "CPU times: user 100 ms, sys: 8.27 ms, total: 108 ms\n",
      "Wall time: 3.73 s\n"
     ]
    }
   ],
   "source": [
    "%%time\n",
    "desired_video_count = 5\n",
    "collected = 0\n",
    "data = []\n",
    "\n",
    "all_videos = get_trending_videos(max_results=50)\n",
    "\n",
    "for vid in all_videos:\n",
    "    if collected >= desired_video_count:\n",
    "        break\n",
    "\n",
    "    video_id = vid['video_id']\n",
    "    comments = get_comments(video_id, max_comments=5)\n",
    "\n",
    "    if not comments:\n",
    "        continue  # Skip video if no usable comments\n",
    "\n",
    "    transcript = get_transcript(video_id)\n",
    "    transcript_sentiment = analyzer.polarity_scores(transcript)['compound']\n",
    "\n",
    "    video_url = f\"https://www.youtube.com/watch?v={video_id}\"\n",
    "\n",
    "    for comment in comments:\n",
    "        data.append({\n",
    "            'video_title': vid['title'],\n",
    "            'channel': vid['channel'],\n",
    "            'comment': comment,\n",
    "            'comment_sentiment': analyzer.polarity_scores(comment)['compound'],\n",
    "            'transcript_sentiment': transcript_sentiment,\n",
    "            'video_url': video_url  # ✅ added here\n",
    "        })\n",
    "\n",
    "    collected += 1\n",
    "\n",
    "df = pd.DataFrame(data)\n",
    "df.to_csv(\"data/youtube_data.csv\", index=False)\n",
    "print(\"✅ Finished collecting data.\")\n"
   ]
  },
  {
   "cell_type": "code",
   "execution_count": 26,
   "metadata": {
    "colab": {
     "base_uri": "https://localhost:8080/",
     "height": 380
    },
    "executionInfo": {
     "elapsed": 14,
     "status": "ok",
     "timestamp": 1745091194362,
     "user": {
      "displayName": "Revanth Shahukaru",
      "userId": "15386280149867855082"
     },
     "user_tz": 240
    },
    "id": "7uDuyj-_PEPA",
    "outputId": "086160bf-b5a9-4b39-9793-d2ca30c525bd"
   },
   "outputs": [
    {
     "data": {
      "text/html": [
       "<div>\n",
       "<style scoped>\n",
       "    .dataframe tbody tr th:only-of-type {\n",
       "        vertical-align: middle;\n",
       "    }\n",
       "\n",
       "    .dataframe tbody tr th {\n",
       "        vertical-align: top;\n",
       "    }\n",
       "\n",
       "    .dataframe thead th {\n",
       "        text-align: right;\n",
       "    }\n",
       "</style>\n",
       "<table border=\"1\" class=\"dataframe\">\n",
       "  <thead>\n",
       "    <tr style=\"text-align: right;\">\n",
       "      <th></th>\n",
       "      <th>video_title</th>\n",
       "      <th>channel</th>\n",
       "      <th>comment</th>\n",
       "      <th>comment_sentiment</th>\n",
       "      <th>transcript_sentiment</th>\n",
       "      <th>video_url</th>\n",
       "    </tr>\n",
       "  </thead>\n",
       "  <tbody>\n",
       "    <tr>\n",
       "      <th>0</th>\n",
       "      <td>Brawl Talk: A NEW BRAWLER RARITY?!</td>\n",
       "      <td>Brawl Stars</td>\n",
       "      <td>Is the new brawler legendery?</td>\n",
       "      <td>0.0000</td>\n",
       "      <td>0.0</td>\n",
       "      <td>https://www.youtube.com/watch?v=6D1yFt1Uook</td>\n",
       "    </tr>\n",
       "    <tr>\n",
       "      <th>1</th>\n",
       "      <td>Brawl Talk: A NEW BRAWLER RARITY?!</td>\n",
       "      <td>Brawl Stars</td>\n",
       "      <td>I want to get the giveaway😢❤</td>\n",
       "      <td>0.3400</td>\n",
       "      <td>0.0</td>\n",
       "      <td>https://www.youtube.com/watch?v=6D1yFt1Uook</td>\n",
       "    </tr>\n",
       "    <tr>\n",
       "      <th>2</th>\n",
       "      <td>Brawl Talk: A NEW BRAWLER RARITY?!</td>\n",
       "      <td>Brawl Stars</td>\n",
       "      <td>Came for the thumbnail, stayed for the vibes</td>\n",
       "      <td>0.0000</td>\n",
       "      <td>0.0</td>\n",
       "      <td>https://www.youtube.com/watch?v=6D1yFt1Uook</td>\n",
       "    </tr>\n",
       "    <tr>\n",
       "      <th>3</th>\n",
       "      <td>Brawl Talk: A NEW BRAWLER RARITY?!</td>\n",
       "      <td>Brawl Stars</td>\n",
       "      <td>11:10</td>\n",
       "      <td>0.0000</td>\n",
       "      <td>0.0</td>\n",
       "      <td>https://www.youtube.com/watch?v=6D1yFt1Uook</td>\n",
       "    </tr>\n",
       "    <tr>\n",
       "      <th>4</th>\n",
       "      <td>Brawl Talk: A NEW BRAWLER RARITY?!</td>\n",
       "      <td>Brawl Stars</td>\n",
       "      <td>This was very informative, appreciate it.</td>\n",
       "      <td>0.4549</td>\n",
       "      <td>0.0</td>\n",
       "      <td>https://www.youtube.com/watch?v=6D1yFt1Uook</td>\n",
       "    </tr>\n",
       "  </tbody>\n",
       "</table>\n",
       "</div>"
      ],
      "text/plain": [
       "                          video_title      channel  \\\n",
       "0  Brawl Talk: A NEW BRAWLER RARITY?!  Brawl Stars   \n",
       "1  Brawl Talk: A NEW BRAWLER RARITY?!  Brawl Stars   \n",
       "2  Brawl Talk: A NEW BRAWLER RARITY?!  Brawl Stars   \n",
       "3  Brawl Talk: A NEW BRAWLER RARITY?!  Brawl Stars   \n",
       "4  Brawl Talk: A NEW BRAWLER RARITY?!  Brawl Stars   \n",
       "\n",
       "                                        comment  comment_sentiment  \\\n",
       "0                 Is the new brawler legendery?             0.0000   \n",
       "1                  I want to get the giveaway😢❤             0.3400   \n",
       "2  Came for the thumbnail, stayed for the vibes             0.0000   \n",
       "3                                         11:10             0.0000   \n",
       "4     This was very informative, appreciate it.             0.4549   \n",
       "\n",
       "   transcript_sentiment                                    video_url  \n",
       "0                   0.0  https://www.youtube.com/watch?v=6D1yFt1Uook  \n",
       "1                   0.0  https://www.youtube.com/watch?v=6D1yFt1Uook  \n",
       "2                   0.0  https://www.youtube.com/watch?v=6D1yFt1Uook  \n",
       "3                   0.0  https://www.youtube.com/watch?v=6D1yFt1Uook  \n",
       "4                   0.0  https://www.youtube.com/watch?v=6D1yFt1Uook  "
      ]
     },
     "execution_count": 26,
     "metadata": {},
     "output_type": "execute_result"
    }
   ],
   "source": [
    "df.head()"
   ]
  },
  {
   "cell_type": "code",
   "execution_count": 27,
   "metadata": {
    "colab": {
     "base_uri": "https://localhost:8080/"
    },
    "executionInfo": {
     "elapsed": 19,
     "status": "ok",
     "timestamp": 1745091194380,
     "user": {
      "displayName": "Revanth Shahukaru",
      "userId": "15386280149867855082"
     },
     "user_tz": 240
    },
    "id": "YSqXP-i6PEHT",
    "outputId": "c835739d-6f9a-47db-c7ea-ed8940bb713d"
   },
   "outputs": [
    {
     "name": "stdout",
     "output_type": "stream",
     "text": [
      "<class 'pandas.core.frame.DataFrame'>\n",
      "RangeIndex: 25 entries, 0 to 24\n",
      "Data columns (total 6 columns):\n",
      " #   Column                Non-Null Count  Dtype  \n",
      "---  ------                --------------  -----  \n",
      " 0   video_title           25 non-null     object \n",
      " 1   channel               25 non-null     object \n",
      " 2   comment               25 non-null     object \n",
      " 3   comment_sentiment     25 non-null     float64\n",
      " 4   transcript_sentiment  25 non-null     float64\n",
      " 5   video_url             25 non-null     object \n",
      "dtypes: float64(2), object(4)\n",
      "memory usage: 1.3+ KB\n"
     ]
    }
   ],
   "source": [
    "df.info()"
   ]
  },
  {
   "cell_type": "code",
   "execution_count": 28,
   "metadata": {
    "colab": {
     "base_uri": "https://localhost:8080/",
     "height": 272
    },
    "executionInfo": {
     "elapsed": 3,
     "status": "ok",
     "timestamp": 1745091194382,
     "user": {
      "displayName": "Revanth Shahukaru",
      "userId": "15386280149867855082"
     },
     "user_tz": 240
    },
    "id": "Nvo_h0FTPEDN",
    "outputId": "c03983ae-d236-4287-dba2-98a2784256ad"
   },
   "outputs": [
    {
     "data": {
      "text/plain": [
       "video_title\n",
       "Brawl Talk: A NEW BRAWLER RARITY?!                                                                      5\n",
       "$1 vs $25,000 Build Challenge                                                                           5\n",
       "Doechii - Anxiety (Official Video)                                                                      5\n",
       "THE GASLIGHT DISTRICT: PILOT                                                                            5\n",
       "Remontada épica. Abajo por 2 goles, el Barcelona ganó 4-3 a Celta de Vigo. Raphinha, héroe | La Liga    5\n",
       "Name: count, dtype: int64"
      ]
     },
     "execution_count": 28,
     "metadata": {},
     "output_type": "execute_result"
    }
   ],
   "source": [
    "df[\"video_title\"].value_counts()"
   ]
  },
  {
   "cell_type": "markdown",
   "metadata": {
    "id": "aCEzQQ6sW-_O"
   },
   "source": [
    "## 💾 Save to CSV"
   ]
  },
  {
   "cell_type": "code",
   "execution_count": 29,
   "metadata": {
    "id": "oCFgiIqNW8Ne"
   },
   "outputs": [],
   "source": [
    "os.makedirs(\"data\", exist_ok=True)\n",
    "df.to_csv(\"data/youtube_data.csv\", index=False)"
   ]
  },
  {
   "cell_type": "markdown",
   "metadata": {
    "id": "wCitpDUIN8sk"
   },
   "source": [
    "### 🔮 Suggested Combined Analysis for Master Notebook\n",
    "**Once Reddit and YouTube data are merged:**\n",
    "\n",
    "✅ Sentiment Comparison  \n",
    "Compare Reddit vs. YouTube sentiment for the same topic.\n",
    "\n",
    "Highlight divergence between video vs. comments sentiment.\n",
    "\n",
    "✅ Engagement Analysis  \n",
    "Plot word count vs. sentiment.  \n",
    "\n",
    "Comment likes vs. sentiment score (for YouTube).  \n",
    "\n",
    "✅ Timeline Tracking  \n",
    "If timestamped, see how sentiment evolves over time across platforms.  \n",
    "\n",
    "✅ Word Cloud or Topic Modeling  \n",
    "Extract common themes using LDA or nltk.FreqDist."
   ]
  }
 ],
 "metadata": {
  "colab": {
   "provenance": []
  },
  "kernelspec": {
   "display_name": "venv",
   "language": "python",
   "name": "python3"
  },
  "language_info": {
   "codemirror_mode": {
    "name": "ipython",
    "version": 3
   },
   "file_extension": ".py",
   "mimetype": "text/x-python",
   "name": "python",
   "nbconvert_exporter": "python",
   "pygments_lexer": "ipython3",
   "version": "3.12.1"
  }
 },
 "nbformat": 4,
 "nbformat_minor": 0
}
